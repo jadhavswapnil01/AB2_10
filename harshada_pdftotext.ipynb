{
 "cells": [
  {
   "cell_type": "code",
   "execution_count": null,
   "metadata": {},
   "outputs": [
    {
     "ename": "",
     "evalue": "",
     "output_type": "error",
     "traceback": [
      "\u001b[1;31mRunning cells with 'Python 3.10.11' requires the ipykernel package.\n",
      "\u001b[1;31mRun the following command to install 'ipykernel' into the Python environment. \n",
      "\u001b[1;31mCommand: 'c:/msys64/ucrt64/bin/python.exe -m pip install ipykernel -U --user --force-reinstall'"
     ]
    }
   ],
   "source": [
    "import tkinter as tk\n",
    "from tkinter import filedialog\n",
    "from pdf2image import convert_from_path\n",
    "import pytesseract\n",
    "from PIL import Image\n",
    "\n",
    "# Set Poppler path (Windows users must set this)\n",
    "POPPLER_PATH = r\"D:/HACKATHON/poppler/Release-24.08.0-0/poppler-24.08.0/Library\\bin\"  # Change this to your Poppler bin folder\n",
    "\n",
    "# Open file dialog to select PDF\n",
    "def select_pdf():\n",
    "    root = tk.Tk()\n",
    "    root.withdraw()  # Hide the main window\n",
    "    file_path = filedialog.askopenfilename(title=\"Select a PDF File\", filetypes=[(\"PDF Files\", \"*.pdf\")])\n",
    "    return file_path\n",
    "\n",
    "# Convert PDF to text\n",
    "def pdf_to_text(pdf_path):\n",
    "    images = convert_from_path(pdf_path, poppler_path=POPPLER_PATH)  # Convert PDF pages to images\n",
    "    text = \"\"\n",
    "\n",
    "    for img in images:\n",
    "        text += pytesseract.image_to_string(img)  # Extract text from each image\n",
    "    \n",
    "    return text\n",
    "\n",
    "# Main Execution\n",
    "pdf_file_path = select_pdf()\n",
    "if pdf_file_path:\n",
    "    print(f\"Selected PDF: {pdf_file_path}\")\n",
    "    extracted_text = pdf_to_text(pdf_file_path)\n",
    "    print(\"\\nExtracted Text:\\n\", extracted_text)\n",
    "else:\n",
    "    print(\"No file selected.\")"
   ]
  }
 ],
 "metadata": {
  "kernelspec": {
   "display_name": "Python 3",
   "language": "python",
   "name": "python3"
  },
  "language_info": {
   "name": "python",
   "version": "3.10.11"
  }
 },
 "nbformat": 4,
 "nbformat_minor": 2
}
